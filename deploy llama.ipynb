{
 "cells": [
  {
   "cell_type": "code",
   "execution_count": null,
   "metadata": {},
   "outputs": [],
   "source": [
    "from ai_api_client_sdk.ai_api_v2_client import AIAPIV2Client\n",
    "import requests\n",
    "import json\n",
    "import pprint\n",
    "#key file from service instance is necessary to login\n",
    "with open(\"ai-core-key.txt\") as file:\n",
    "    aicorekey = json.load(file)"
   ]
  },
  {
   "cell_type": "code",
   "execution_count": null,
   "metadata": {},
   "outputs": [],
   "source": [
    "AUTH_URL = aicorekey[\"url\"]\n",
    "AI_API = aicorekey[\"serviceurls\"][\"AI_API_URL\"] + \"/v2\"\n",
    "CLIENT_ID = aicorekey[\"clientid\"]\n",
    "CLIENT_SECRET = aicorekey[\"clientsecret\"]\n",
    "RESOURCE_GROUP = \"llm\"\n",
    "SCENARIO_ID = \"transformers\"\n",
    "SERVING_EXECUTABLE = \"transformers\""
   ]
  },
  {
   "cell_type": "code",
   "execution_count": null,
   "metadata": {},
   "outputs": [],
   "source": [
    "ai_api_v2_client = AIAPIV2Client(\n",
    "    base_url=AI_API + \"/lm\", \n",
    "    auth_url=AUTH_URL + \"/oauth/token\", \n",
    "    client_id=CLIENT_ID,\n",
    "    client_secret=CLIENT_SECRET, \n",
    "    resource_group=RESOURCE_GROUP\n",
    ")"
   ]
  },
  {
   "cell_type": "markdown",
   "metadata": {},
   "source": [
    "Create Serving Configuration"
   ]
  },
  {
   "cell_type": "code",
   "execution_count": null,
   "metadata": {},
   "outputs": [],
   "source": [
    "serving_configuration = {\n",
    "    \"name\": \"transformers config\",\n",
    "    \"scenario_id\": \"transformers\",\n",
    "    \"executable_id\": \"transformers\",\n",
    "    \"parameter_bindings\": [ ],\n",
    "    \"input_artifact_bindings\": [ ]\n",
    "}\n",
    "\n",
    "serving_config_resp = ai_api_v2_client.configuration.create(**serving_configuration)\n",
    "assert serving_config_resp.message == 'Configuration created'"
   ]
  },
  {
   "cell_type": "markdown",
   "metadata": {},
   "source": [
    "Create Deployment"
   ]
  },
  {
   "cell_type": "code",
   "execution_count": null,
   "metadata": {},
   "outputs": [],
   "source": [
    "deployment_resp = ai_api_v2_client.deployment.create(serving_config_resp.id)\n",
    "deployment_resp.id"
   ]
  },
  {
   "cell_type": "code",
   "execution_count": null,
   "metadata": {},
   "outputs": [],
   "source": [
    "deployment = ai_api_v2_client.deployment.get(deployment_resp.id)\n",
    "deployment.status_details   # check status"
   ]
  },
  {
   "cell_type": "markdown",
   "metadata": {},
   "source": [
    "Inference"
   ]
  },
  {
   "cell_type": "code",
   "execution_count": null,
   "metadata": {},
   "outputs": [],
   "source": [
    "def build_llama2_prompt(role_prompt, task_prompt):\n",
    "    B_S, E_S = \"<s>\", \" </s>\"\n",
    "    B_INST, E_INST = \"[INST]\", \" [/INST]\\n\"\n",
    "    B_SYS, E_SYS = \" <<SYS>>\\n\", \"\\n<</SYS>>\\n\\n\"\n",
    "    SYSTEM_PROMPT = B_SYS + role_prompt + E_SYS\n",
    "    return B_S + B_INST + SYSTEM_PROMPT + task_prompt + E_INST"
   ]
  },
  {
   "cell_type": "code",
   "execution_count": null,
   "metadata": {},
   "outputs": [],
   "source": [
    "def get_response(full_prompt, args={}):\n",
    "    res = requests.post(\n",
    "        f\"https://api.ai.prod.eu-central-1.aws.ml.hana.ondemand.com/v2/inference/deployments/{deployment_resp.id}/v2/predict\",\n",
    "        json={\"prompt\": full_prompt, \"args\": args},\n",
    "        headers={\n",
    "            \"Authorization\": ai_api_v2_client.rest_client.get_token(),\n",
    "            \"ai-resource-group\": RESOURCE_GROUP,\n",
    "            \"Content-Type\": \"application/json\"\n",
    "        })\n",
    "    if res.status_code != 200:\n",
    "        raise Exception(\"ERROR WITH DEPLOYMENT \" + str(res.status_code) + \" \" + str(res.content))\n",
    "    return res.json()[0][\"generated_text\"]   "
   ]
  },
  {
   "cell_type": "code",
   "execution_count": null,
   "metadata": {},
   "outputs": [],
   "source": [
    "r = get_response(build_llama2_prompt(role_prompt=\"You are a poet!\", task_prompt=\"Write a 5 line Poem, about lamas!\"))"
   ]
  },
  {
   "cell_type": "code",
   "execution_count": null,
   "metadata": {},
   "outputs": [],
   "source": [
    "print(r)"
   ]
  },
  {
   "cell_type": "code",
   "execution_count": null,
   "metadata": {},
   "outputs": [],
   "source": [
    "build_llama2_prompt(role_prompt=\"You are a poet!\", task_prompt=\"Write a 5 line Poem, about lamas!\")"
   ]
  }
 ],
 "metadata": {
  "language_info": {
   "name": "python"
  }
 },
 "nbformat": 4,
 "nbformat_minor": 2
}
